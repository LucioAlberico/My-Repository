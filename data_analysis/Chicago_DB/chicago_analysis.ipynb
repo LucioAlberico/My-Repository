{
 "cells": [
  {
   "cell_type": "code",
   "execution_count": 63,
   "id": "f90b4d3b",
   "metadata": {},
   "outputs": [],
   "source": [
    "import csv, sqlite3"
   ]
  },
  {
   "cell_type": "code",
   "execution_count": 3,
   "id": "c4f1d492",
   "metadata": {},
   "outputs": [],
   "source": [
    "#CREATING THE CONNECTION & CURSOR\n",
    "con = sqlite3.connect(\"chicago.db\")\n",
    "cur = con.cursor()"
   ]
  },
  {
   "cell_type": "code",
   "execution_count": 4,
   "id": "6ea3df6c",
   "metadata": {
    "scrolled": true
   },
   "outputs": [
    {
     "data": {
      "text/plain": [
       "[('CHICAGO_SCHOOLS',), ('CHICAGO_CRIMES',), ('CHICAGO_CENSUS',)]"
      ]
     },
     "execution_count": 4,
     "metadata": {},
     "output_type": "execute_result"
    }
   ],
   "source": [
    "#VIEWING ALL THE TABLES IN THE DB\n",
    "cur.execute('SELECT name from sqlite_master where type= \"table\"')\n",
    "cur.fetchall() "
   ]
  },
  {
   "cell_type": "code",
   "execution_count": 5,
   "id": "85e3fa34",
   "metadata": {},
   "outputs": [],
   "source": [
    "#Loading SQL Magic and the database\n",
    "%load_ext sql\n",
    "%sql sqlite:///chicago.db"
   ]
  },
  {
   "cell_type": "code",
   "execution_count": 6,
   "id": "68cdc021",
   "metadata": {
    "scrolled": true
   },
   "outputs": [
    {
     "name": "stdout",
     "output_type": "stream",
     "text": [
      " * sqlite:///chicago.db\n",
      "Done.\n"
     ]
    },
    {
     "data": {
      "text/html": [
       "<table>\n",
       "    <tr>\n",
       "        <th>name</th>\n",
       "        <th>type</th>\n",
       "    </tr>\n",
       "    <tr>\n",
       "        <td>ID</td>\n",
       "        <td>INTEGER</td>\n",
       "    </tr>\n",
       "    <tr>\n",
       "        <td>CASE_NUMBER</td>\n",
       "        <td>TEXT</td>\n",
       "    </tr>\n",
       "    <tr>\n",
       "        <td>DATE</td>\n",
       "        <td>TEXT</td>\n",
       "    </tr>\n",
       "    <tr>\n",
       "        <td>BLOCK</td>\n",
       "        <td>TEXT</td>\n",
       "    </tr>\n",
       "    <tr>\n",
       "        <td>IUCR</td>\n",
       "        <td>INTEGER</td>\n",
       "    </tr>\n",
       "    <tr>\n",
       "        <td>PRIMARY_TYPE</td>\n",
       "        <td>TEXT</td>\n",
       "    </tr>\n",
       "    <tr>\n",
       "        <td>DESCRIPTION</td>\n",
       "        <td>TEXT</td>\n",
       "    </tr>\n",
       "    <tr>\n",
       "        <td>LOCATION_DESCRIPTION</td>\n",
       "        <td>TEXT</td>\n",
       "    </tr>\n",
       "    <tr>\n",
       "        <td>ARREST</td>\n",
       "        <td>TEXT</td>\n",
       "    </tr>\n",
       "    <tr>\n",
       "        <td>DOMESTIC</td>\n",
       "        <td>TEXT</td>\n",
       "    </tr>\n",
       "    <tr>\n",
       "        <td>BEAT</td>\n",
       "        <td>INTEGER</td>\n",
       "    </tr>\n",
       "    <tr>\n",
       "        <td>DISTRICT</td>\n",
       "        <td>INTEGER</td>\n",
       "    </tr>\n",
       "    <tr>\n",
       "        <td>WARD</td>\n",
       "        <td>INTEGER</td>\n",
       "    </tr>\n",
       "    <tr>\n",
       "        <td>COMMUNITY_AREA_NUMBER</td>\n",
       "        <td>INTEGER</td>\n",
       "    </tr>\n",
       "    <tr>\n",
       "        <td>FBICODE</td>\n",
       "        <td>INTEGER</td>\n",
       "    </tr>\n",
       "    <tr>\n",
       "        <td>X_COORDINATE</td>\n",
       "        <td>INTEGER</td>\n",
       "    </tr>\n",
       "    <tr>\n",
       "        <td>Y_COORDINATE</td>\n",
       "        <td>INTEGER</td>\n",
       "    </tr>\n",
       "    <tr>\n",
       "        <td>YEAR</td>\n",
       "        <td>INTEGER</td>\n",
       "    </tr>\n",
       "    <tr>\n",
       "        <td>LATITUDE</td>\n",
       "        <td>REAL</td>\n",
       "    </tr>\n",
       "    <tr>\n",
       "        <td>LONGITUDE</td>\n",
       "        <td>REAL</td>\n",
       "    </tr>\n",
       "    <tr>\n",
       "        <td>LOCATION</td>\n",
       "        <td>TEXT</td>\n",
       "    </tr>\n",
       "</table>"
      ],
      "text/plain": [
       "[('ID', 'INTEGER'),\n",
       " ('CASE_NUMBER', 'TEXT'),\n",
       " ('DATE', 'TEXT'),\n",
       " ('BLOCK', 'TEXT'),\n",
       " ('IUCR', 'INTEGER'),\n",
       " ('PRIMARY_TYPE', 'TEXT'),\n",
       " ('DESCRIPTION', 'TEXT'),\n",
       " ('LOCATION_DESCRIPTION', 'TEXT'),\n",
       " ('ARREST', 'TEXT'),\n",
       " ('DOMESTIC', 'TEXT'),\n",
       " ('BEAT', 'INTEGER'),\n",
       " ('DISTRICT', 'INTEGER'),\n",
       " ('WARD', 'INTEGER'),\n",
       " ('COMMUNITY_AREA_NUMBER', 'INTEGER'),\n",
       " ('FBICODE', 'INTEGER'),\n",
       " ('X_COORDINATE', 'INTEGER'),\n",
       " ('Y_COORDINATE', 'INTEGER'),\n",
       " ('YEAR', 'INTEGER'),\n",
       " ('LATITUDE', 'REAL'),\n",
       " ('LONGITUDE', 'REAL'),\n",
       " ('LOCATION', 'TEXT')]"
      ]
     },
     "execution_count": 6,
     "metadata": {},
     "output_type": "execute_result"
    }
   ],
   "source": [
    "%sql SELECT name, type FROM PRAGMA_TABLE_INFO('CHICAGO_CRIMES')"
   ]
  },
  {
   "cell_type": "code",
   "execution_count": 7,
   "id": "407563a9",
   "metadata": {
    "scrolled": true
   },
   "outputs": [
    {
     "name": "stdout",
     "output_type": "stream",
     "text": [
      " * sqlite:///chicago.db\n",
      "Done.\n"
     ]
    },
    {
     "data": {
      "text/html": [
       "<table>\n",
       "    <tr>\n",
       "        <th>Count(*)</th>\n",
       "    </tr>\n",
       "    <tr>\n",
       "        <td>533</td>\n",
       "    </tr>\n",
       "</table>"
      ],
      "text/plain": [
       "[(533,)]"
      ]
     },
     "execution_count": 7,
     "metadata": {},
     "output_type": "execute_result"
    }
   ],
   "source": [
    "#Number of crime records registered\n",
    "%sql SELECT Count(*) FROM CHICAGO_CRIMES"
   ]
  },
  {
   "cell_type": "code",
   "execution_count": 9,
   "id": "ce9e4fc8",
   "metadata": {
    "scrolled": false
   },
   "outputs": [
    {
     "name": "stdout",
     "output_type": "stream",
     "text": [
      " * sqlite:///chicago.db\n",
      "Done.\n"
     ]
    },
    {
     "data": {
      "text/html": [
       "<table>\n",
       "    <tr>\n",
       "        <th>COMMUNITY_AREA_NAME</th>\n",
       "    </tr>\n",
       "    <tr>\n",
       "        <td>West Garfield Park</td>\n",
       "    </tr>\n",
       "    <tr>\n",
       "        <td>South Lawndale</td>\n",
       "    </tr>\n",
       "    <tr>\n",
       "        <td>Fuller Park</td>\n",
       "    </tr>\n",
       "    <tr>\n",
       "        <td>Riverdale</td>\n",
       "    </tr>\n",
       "</table>"
      ],
      "text/plain": [
       "[('West Garfield Park',),\n",
       " ('South Lawndale',),\n",
       " ('Fuller Park',),\n",
       " ('Riverdale',)]"
      ]
     },
     "execution_count": 9,
     "metadata": {},
     "output_type": "execute_result"
    }
   ],
   "source": [
    "#Community areas with per capita income less than 11000.\n",
    "%sql SELECT COMMUNITY_AREA_NAME FROM CHICAGO_CENSUS WHERE PER_CAPITA_INCOME<11000 "
   ]
  },
  {
   "cell_type": "code",
   "execution_count": 10,
   "id": "6a61ddaf",
   "metadata": {},
   "outputs": [
    {
     "name": "stdout",
     "output_type": "stream",
     "text": [
      " * sqlite:///chicago.db\n",
      "Done.\n"
     ]
    },
    {
     "data": {
      "text/html": [
       "<table>\n",
       "    <tr>\n",
       "        <th>CASE_NUMBER</th>\n",
       "        <th>DESCRIPTION</th>\n",
       "    </tr>\n",
       "    <tr>\n",
       "        <td>HL266884</td>\n",
       "        <td>SELL/GIVE/DEL LIQUOR TO MINOR</td>\n",
       "    </tr>\n",
       "    <tr>\n",
       "        <td>HK238408</td>\n",
       "        <td>ILLEGAL CONSUMPTION BY MINOR</td>\n",
       "    </tr>\n",
       "</table>"
      ],
      "text/plain": [
       "[('HL266884', 'SELL/GIVE/DEL LIQUOR TO MINOR'),\n",
       " ('HK238408', 'ILLEGAL CONSUMPTION BY MINOR')]"
      ]
     },
     "execution_count": 10,
     "metadata": {},
     "output_type": "execute_result"
    }
   ],
   "source": [
    "#Listing case number of crimes involving minors\n",
    "%sql SELECT CASE_NUMBER, DESCRIPTION FROM CHICAGO_CRIMES WHERE DESCRIPTION LIKE '%MINOR%' "
   ]
  },
  {
   "cell_type": "code",
   "execution_count": 13,
   "id": "d7694003",
   "metadata": {
    "scrolled": true
   },
   "outputs": [
    {
     "name": "stdout",
     "output_type": "stream",
     "text": [
      " * sqlite:///chicago.db\n",
      "Done.\n"
     ]
    },
    {
     "data": {
      "text/html": [
       "<table>\n",
       "    <tr>\n",
       "        <th>ID</th>\n",
       "        <th>CASE_NUMBER</th>\n",
       "        <th>DATE</th>\n",
       "        <th>BLOCK</th>\n",
       "        <th>IUCR</th>\n",
       "        <th>PRIMARY_TYPE</th>\n",
       "        <th>DESCRIPTION</th>\n",
       "        <th>LOCATION_DESCRIPTION</th>\n",
       "        <th>ARREST</th>\n",
       "        <th>DOMESTIC</th>\n",
       "        <th>BEAT</th>\n",
       "        <th>DISTRICT</th>\n",
       "        <th>WARD</th>\n",
       "        <th>COMMUNITY_AREA_NUMBER</th>\n",
       "        <th>FBICODE</th>\n",
       "        <th>X_COORDINATE</th>\n",
       "        <th>Y_COORDINATE</th>\n",
       "        <th>YEAR</th>\n",
       "        <th>LATITUDE</th>\n",
       "        <th>LONGITUDE</th>\n",
       "        <th>LOCATION</th>\n",
       "    </tr>\n",
       "    <tr>\n",
       "        <td>5276766</td>\n",
       "        <td>HN144152</td>\n",
       "        <td>2007-01-26</td>\n",
       "        <td>050XX W VAN BUREN ST</td>\n",
       "        <td>1792</td>\n",
       "        <td>KIDNAPPING</td>\n",
       "        <td>CHILD ABDUCTION/STRANGER</td>\n",
       "        <td>STREET</td>\n",
       "        <td>FALSE</td>\n",
       "        <td>FALSE</td>\n",
       "        <td>1533</td>\n",
       "        <td>15</td>\n",
       "        <td>29</td>\n",
       "        <td>25</td>\n",
       "        <td>20</td>\n",
       "        <td>1143050</td>\n",
       "        <td>1897546</td>\n",
       "        <td>2007</td>\n",
       "        <td>41.87490841</td>\n",
       "        <td>-87.75024931</td>\n",
       "        <td>(41.874908413, -87.750249307)</td>\n",
       "    </tr>\n",
       "</table>"
      ],
      "text/plain": [
       "[(5276766, 'HN144152', '2007-01-26', '050XX W VAN BUREN ST', 1792, 'KIDNAPPING', 'CHILD ABDUCTION/STRANGER', 'STREET', 'FALSE', 'FALSE', 1533, 15, 29, 25, 20, 1143050, 1897546, 2007, 41.87490841, -87.75024931, '(41.874908413, -87.750249307)')]"
      ]
     },
     "execution_count": 13,
     "metadata": {},
     "output_type": "execute_result"
    }
   ],
   "source": [
    "#Listing kidnapping crimes involving childs\n",
    "%sql SELECT * FROM CHICAGO_CRIMES WHERE PRIMARY_TYPE='KIDNAPPING' and DESCRIPTION LIKE 'CHILD%'"
   ]
  },
  {
   "cell_type": "code",
   "execution_count": 17,
   "id": "5b680cbf",
   "metadata": {},
   "outputs": [
    {
     "name": "stdout",
     "output_type": "stream",
     "text": [
      " * sqlite:///chicago.db\n",
      "Done.\n"
     ]
    },
    {
     "data": {
      "text/html": [
       "<table>\n",
       "    <tr>\n",
       "        <th>PRIMARY_TYPE</th>\n",
       "        <th>DESCRIPTION</th>\n",
       "    </tr>\n",
       "    <tr>\n",
       "        <td>BATTERY</td>\n",
       "        <td>SIMPLE</td>\n",
       "    </tr>\n",
       "    <tr>\n",
       "        <td>BATTERY</td>\n",
       "        <td>PRO EMP HANDS NO/MIN INJURY</td>\n",
       "    </tr>\n",
       "    <tr>\n",
       "        <td>CRIMINAL DAMAGE</td>\n",
       "        <td>TO VEHICLE</td>\n",
       "    </tr>\n",
       "    <tr>\n",
       "        <td>NARCOTICS</td>\n",
       "        <td>POSS: HEROIN(WHITE)</td>\n",
       "    </tr>\n",
       "    <tr>\n",
       "        <td>NARCOTICS</td>\n",
       "        <td>MANU/DEL:CANNABIS 10GM OR LESS</td>\n",
       "    </tr>\n",
       "    <tr>\n",
       "        <td>ASSAULT</td>\n",
       "        <td>PRO EMP HANDS NO/MIN INJURY</td>\n",
       "    </tr>\n",
       "    <tr>\n",
       "        <td>CRIMINAL TRESPASS</td>\n",
       "        <td>TO LAND</td>\n",
       "    </tr>\n",
       "    <tr>\n",
       "        <td>PUBLIC PEACE VIOLATION</td>\n",
       "        <td>BOMB THREAT</td>\n",
       "    </tr>\n",
       "</table>"
      ],
      "text/plain": [
       "[('BATTERY', 'SIMPLE'),\n",
       " ('BATTERY', 'PRO EMP HANDS NO/MIN INJURY'),\n",
       " ('CRIMINAL DAMAGE', 'TO VEHICLE'),\n",
       " ('NARCOTICS', 'POSS: HEROIN(WHITE)'),\n",
       " ('NARCOTICS', 'MANU/DEL:CANNABIS 10GM OR LESS'),\n",
       " ('ASSAULT', 'PRO EMP HANDS NO/MIN INJURY'),\n",
       " ('CRIMINAL TRESPASS', 'TO LAND'),\n",
       " ('PUBLIC PEACE VIOLATION', 'BOMB THREAT')]"
      ]
     },
     "execution_count": 17,
     "metadata": {},
     "output_type": "execute_result"
    }
   ],
   "source": [
    "#Listing the type of crimes recorded at schools\n",
    "%sql SELECT DISTINCT(PRIMARY_TYPE), DESCRIPTION FROM CHICAGO_CRIMES WHERE LOCATION_DESCRIPTION LIKE '%SCHOOL%'"
   ]
  },
  {
   "cell_type": "markdown",
   "id": "43bf091e",
   "metadata": {},
   "source": [
    "Listing the average safety score per each type of school."
   ]
  },
  {
   "cell_type": "code",
   "execution_count": 43,
   "id": "25e57fb2",
   "metadata": {
    "scrolled": true
   },
   "outputs": [
    {
     "name": "stdout",
     "output_type": "stream",
     "text": [
      " * sqlite:///chicago.db\n",
      "Done.\n"
     ]
    },
    {
     "data": {
      "text/html": [
       "<table>\n",
       "    <tr>\n",
       "        <th>average_safety</th>\n",
       "        <th>school_type</th>\n",
       "    </tr>\n",
       "    <tr>\n",
       "        <td>49.52038369304557</td>\n",
       "        <td>ES</td>\n",
       "    </tr>\n",
       "    <tr>\n",
       "        <td>49.62352941176471</td>\n",
       "        <td>HS</td>\n",
       "    </tr>\n",
       "    <tr>\n",
       "        <td>48.0</td>\n",
       "        <td>MS</td>\n",
       "    </tr>\n",
       "</table>"
      ],
      "text/plain": [
       "[(49.52038369304557, 'ES'), (49.62352941176471, 'HS'), (48.0, 'MS')]"
      ]
     },
     "execution_count": 43,
     "metadata": {},
     "output_type": "execute_result"
    }
   ],
   "source": [
    "%%sql \n",
    "SELECT avg(SAFETY_SCORE) as average_safety , ElementaryMiddleorHighSchool as school_type\n",
    "FROM CHICAGO_SCHOOLS GROUP BY ElementaryMiddleorHighSchool"
   ]
  },
  {
   "cell_type": "code",
   "execution_count": 46,
   "id": "bb78e128",
   "metadata": {
    "scrolled": true
   },
   "outputs": [
    {
     "name": "stdout",
     "output_type": "stream",
     "text": [
      " * sqlite:///chicago.db\n",
      "Done.\n"
     ]
    },
    {
     "data": {
      "text/html": [
       "<table>\n",
       "    <tr>\n",
       "        <th>COMMUNITY_AREA_NUMBER</th>\n",
       "        <th>COMMUNITY_AREA_NAME</th>\n",
       "        <th>PERCENT_OF_HOUSING_CROWDED</th>\n",
       "        <th>PERCENT_HOUSEHOLDS_BELOW_POVERTY</th>\n",
       "        <th>PERCENT_AGED_16__UNEMPLOYED</th>\n",
       "        <th>PERCENT_AGED_25__WITHOUT_HIGH_SCHOOL_DIPLOMA</th>\n",
       "        <th>PERCENT_AGED_UNDER_18_OR_OVER_64</th>\n",
       "        <th>PER_CAPITA_INCOME</th>\n",
       "        <th>HARDSHIP_INDEX</th>\n",
       "    </tr>\n",
       "    <tr>\n",
       "        <td>54</td>\n",
       "        <td>Riverdale</td>\n",
       "        <td>5.8</td>\n",
       "        <td>56.5</td>\n",
       "        <td>34.6</td>\n",
       "        <td>27.5</td>\n",
       "        <td>51.5</td>\n",
       "        <td>8201</td>\n",
       "        <td>98</td>\n",
       "    </tr>\n",
       "    <tr>\n",
       "        <td>37</td>\n",
       "        <td>Fuller Park</td>\n",
       "        <td>3.2</td>\n",
       "        <td>51.2</td>\n",
       "        <td>33.9</td>\n",
       "        <td>26.6</td>\n",
       "        <td>44.9</td>\n",
       "        <td>10432</td>\n",
       "        <td>97</td>\n",
       "    </tr>\n",
       "    <tr>\n",
       "        <td>68</td>\n",
       "        <td>Englewood</td>\n",
       "        <td>3.8</td>\n",
       "        <td>46.6</td>\n",
       "        <td>28.0</td>\n",
       "        <td>28.5</td>\n",
       "        <td>42.5</td>\n",
       "        <td>11888</td>\n",
       "        <td>94</td>\n",
       "    </tr>\n",
       "    <tr>\n",
       "        <td>29</td>\n",
       "        <td>North Lawndale</td>\n",
       "        <td>7.4</td>\n",
       "        <td>43.1</td>\n",
       "        <td>21.2</td>\n",
       "        <td>27.6</td>\n",
       "        <td>42.7</td>\n",
       "        <td>12034</td>\n",
       "        <td>87</td>\n",
       "    </tr>\n",
       "    <tr>\n",
       "        <td>27</td>\n",
       "        <td>East Garfield Park</td>\n",
       "        <td>8.2</td>\n",
       "        <td>42.4</td>\n",
       "        <td>19.6</td>\n",
       "        <td>21.3</td>\n",
       "        <td>43.2</td>\n",
       "        <td>12961</td>\n",
       "        <td>83</td>\n",
       "    </tr>\n",
       "</table>"
      ],
      "text/plain": [
       "[(54, 'Riverdale', 5.8, 56.5, 34.6, 27.5, 51.5, 8201, 98),\n",
       " (37, 'Fuller Park', 3.2, 51.2, 33.9, 26.6, 44.9, 10432, 97),\n",
       " (68, 'Englewood', 3.8, 46.6, 28.0, 28.5, 42.5, 11888, 94),\n",
       " (29, 'North Lawndale', 7.4, 43.1, 21.2, 27.6, 42.7, 12034, 87),\n",
       " (27, 'East Garfield Park', 8.2, 42.4, 19.6, 21.3, 43.2, 12961, 83)]"
      ]
     },
     "execution_count": 46,
     "metadata": {},
     "output_type": "execute_result"
    }
   ],
   "source": [
    "#Top 5 community with highest percentage of household poverty\n",
    "%sql select * from chicago_census order by PERCENT_HOUSEHOLDS_BELOW_POVERTY desc limit 5"
   ]
  },
  {
   "cell_type": "markdown",
   "id": "0ba925a8",
   "metadata": {},
   "source": [
    "Community Area with the highest crime rate"
   ]
  },
  {
   "cell_type": "code",
   "execution_count": 54,
   "id": "495d4f2b",
   "metadata": {
    "scrolled": true
   },
   "outputs": [
    {
     "name": "stdout",
     "output_type": "stream",
     "text": [
      " * sqlite:///chicago.db\n",
      "Done.\n"
     ]
    },
    {
     "data": {
      "text/html": [
       "<table>\n",
       "    <tr>\n",
       "        <th>COMMUNITY_AREA_NUMBER</th>\n",
       "        <th>count(community_area_number)</th>\n",
       "    </tr>\n",
       "    <tr>\n",
       "        <td>25</td>\n",
       "        <td>43</td>\n",
       "    </tr>\n",
       "</table>"
      ],
      "text/plain": [
       "[(25, 43)]"
      ]
     },
     "execution_count": 54,
     "metadata": {},
     "output_type": "execute_result"
    }
   ],
   "source": [
    "%%sql \n",
    "select community_area_number, count(community_area_number) \n",
    "from chicago_crimes \n",
    "group by community_area_number \n",
    "order by count(community_area_number) desc LIMIT 1"
   ]
  },
  {
   "cell_type": "code",
   "execution_count": 57,
   "id": "88b53d32",
   "metadata": {
    "scrolled": true
   },
   "outputs": [
    {
     "name": "stdout",
     "output_type": "stream",
     "text": [
      " * sqlite:///chicago.db\n",
      "Done.\n"
     ]
    },
    {
     "data": {
      "text/html": [
       "<table>\n",
       "    <tr>\n",
       "        <th>COMMUNITY_AREA_NAME</th>\n",
       "    </tr>\n",
       "    <tr>\n",
       "        <td>Riverdale</td>\n",
       "    </tr>\n",
       "</table>"
      ],
      "text/plain": [
       "[('Riverdale',)]"
      ]
     },
     "execution_count": 57,
     "metadata": {},
     "output_type": "execute_result"
    }
   ],
   "source": [
    "#Community area name with the highest hardship index\n",
    "%sql select community_area_name from chicago_census where hardship_index=(select max(hardship_index) from chicago_census)"
   ]
  },
  {
   "cell_type": "markdown",
   "id": "a8eaf2d2",
   "metadata": {},
   "source": [
    "Community Area Name With the highest crime rate"
   ]
  },
  {
   "cell_type": "code",
   "execution_count": 59,
   "id": "601d8075",
   "metadata": {
    "scrolled": true
   },
   "outputs": [
    {
     "name": "stdout",
     "output_type": "stream",
     "text": [
      " * sqlite:///chicago.db\n",
      "Done.\n"
     ]
    },
    {
     "data": {
      "text/html": [
       "<table>\n",
       "    <tr>\n",
       "        <th>COMMUNITY_AREA_NAME</th>\n",
       "    </tr>\n",
       "    <tr>\n",
       "        <td>Austin</td>\n",
       "    </tr>\n",
       "</table>"
      ],
      "text/plain": [
       "[('Austin',)]"
      ]
     },
     "execution_count": 59,
     "metadata": {},
     "output_type": "execute_result"
    }
   ],
   "source": [
    "%%sql \n",
    "select community_area_name from chicago_census where community_area_number=\n",
    "(select community_area_number from chicago_crimes group by community_area_number order by \n",
    "count(community_area_number) desc LIMIT 1)"
   ]
  }
 ],
 "metadata": {
  "kernelspec": {
   "display_name": "Python 3 (ipykernel)",
   "language": "python",
   "name": "python3"
  },
  "language_info": {
   "codemirror_mode": {
    "name": "ipython",
    "version": 3
   },
   "file_extension": ".py",
   "mimetype": "text/x-python",
   "name": "python",
   "nbconvert_exporter": "python",
   "pygments_lexer": "ipython3",
   "version": "3.10.5"
  }
 },
 "nbformat": 4,
 "nbformat_minor": 5
}
